{
 "cells": [
  {
   "cell_type": "markdown",
   "id": "6e365e56-d7e5-4299-aef3-5952b0f3c690",
   "metadata": {},
   "source": [
    "## PCA on a real-world Dataset"
   ]
  },
  {
   "cell_type": "markdown",
   "id": "f591d3a6-2da2-4156-b7e6-1413231d90ff",
   "metadata": {},
   "source": [
    "we will be working with a subset of MNIST dataset. The cell below generates the data-matrix X which is of shape(d,n) \n",
    "where n denotes the number of samples and d denotes the number of features"
   ]
  },
  {
   "cell_type": "code",
   "execution_count": 3,
   "id": "11052254-42f4-4b0f-b026-5f502feac7bf",
   "metadata": {},
   "outputs": [
    {
     "name": "stdout",
     "output_type": "stream",
     "text": [
      "Requirement already satisfied: keras in c:\\users\\alokg\\anaconda\\lib\\site-packages (3.11.3)\n",
      "Requirement already satisfied: absl-py in c:\\users\\alokg\\anaconda\\lib\\site-packages (from keras) (2.3.1)\n",
      "Requirement already satisfied: numpy in c:\\users\\alokg\\anaconda\\lib\\site-packages (from keras) (1.26.4)\n",
      "Requirement already satisfied: rich in c:\\users\\alokg\\appdata\\roaming\\python\\python312\\site-packages (from keras) (13.9.4)\n",
      "Requirement already satisfied: namex in c:\\users\\alokg\\anaconda\\lib\\site-packages (from keras) (0.1.0)\n",
      "Requirement already satisfied: h5py in c:\\users\\alokg\\anaconda\\lib\\site-packages (from keras) (3.11.0)\n",
      "Requirement already satisfied: optree in c:\\users\\alokg\\anaconda\\lib\\site-packages (from keras) (0.17.0)\n",
      "Requirement already satisfied: ml-dtypes in c:\\users\\alokg\\anaconda\\lib\\site-packages (from keras) (0.5.3)\n",
      "Requirement already satisfied: packaging in c:\\users\\alokg\\appdata\\roaming\\python\\python312\\site-packages (from keras) (23.2)\n",
      "Requirement already satisfied: typing-extensions>=4.6.0 in c:\\users\\alokg\\appdata\\roaming\\python\\python312\\site-packages (from optree->keras) (4.12.2)\n",
      "Requirement already satisfied: markdown-it-py>=2.2.0 in c:\\users\\alokg\\appdata\\roaming\\python\\python312\\site-packages (from rich->keras) (3.0.0)\n",
      "Requirement already satisfied: pygments<3.0.0,>=2.13.0 in c:\\users\\alokg\\appdata\\roaming\\python\\python312\\site-packages (from rich->keras) (2.19.1)\n",
      "Requirement already satisfied: mdurl~=0.1 in c:\\users\\alokg\\appdata\\roaming\\python\\python312\\site-packages (from markdown-it-py>=2.2.0->rich->keras) (0.1.2)\n",
      "Requirement already satisfied: tensorflow in c:\\users\\alokg\\anaconda\\lib\\site-packages (2.20.0)\n",
      "Requirement already satisfied: absl-py>=1.0.0 in c:\\users\\alokg\\anaconda\\lib\\site-packages (from tensorflow) (2.3.1)\n",
      "Requirement already satisfied: astunparse>=1.6.0 in c:\\users\\alokg\\anaconda\\lib\\site-packages (from tensorflow) (1.6.3)\n",
      "Requirement already satisfied: flatbuffers>=24.3.25 in c:\\users\\alokg\\anaconda\\lib\\site-packages (from tensorflow) (25.9.23)\n",
      "Requirement already satisfied: gast!=0.5.0,!=0.5.1,!=0.5.2,>=0.2.1 in c:\\users\\alokg\\anaconda\\lib\\site-packages (from tensorflow) (0.6.0)\n",
      "Requirement already satisfied: google_pasta>=0.1.1 in c:\\users\\alokg\\anaconda\\lib\\site-packages (from tensorflow) (0.2.0)\n",
      "Requirement already satisfied: libclang>=13.0.0 in c:\\users\\alokg\\anaconda\\lib\\site-packages (from tensorflow) (18.1.1)\n",
      "Requirement already satisfied: opt_einsum>=2.3.2 in c:\\users\\alokg\\anaconda\\lib\\site-packages (from tensorflow) (3.4.0)\n",
      "Requirement already satisfied: packaging in c:\\users\\alokg\\appdata\\roaming\\python\\python312\\site-packages (from tensorflow) (23.2)\n",
      "Requirement already satisfied: protobuf>=5.28.0 in c:\\users\\alokg\\appdata\\roaming\\python\\python312\\site-packages (from tensorflow) (5.29.3)\n",
      "Requirement already satisfied: requests<3,>=2.21.0 in c:\\users\\alokg\\appdata\\roaming\\python\\python312\\site-packages (from tensorflow) (2.32.3)\n",
      "Requirement already satisfied: setuptools in c:\\users\\alokg\\appdata\\roaming\\python\\python312\\site-packages (from tensorflow) (75.9.1)\n",
      "Requirement already satisfied: six>=1.12.0 in c:\\users\\alokg\\appdata\\roaming\\python\\python312\\site-packages (from tensorflow) (1.17.0)\n",
      "Requirement already satisfied: termcolor>=1.1.0 in c:\\users\\alokg\\anaconda\\lib\\site-packages (from tensorflow) (3.1.0)\n",
      "Requirement already satisfied: typing_extensions>=3.6.6 in c:\\users\\alokg\\appdata\\roaming\\python\\python312\\site-packages (from tensorflow) (4.12.2)\n",
      "Requirement already satisfied: wrapt>=1.11.0 in c:\\users\\alokg\\anaconda\\lib\\site-packages (from tensorflow) (1.14.1)\n",
      "Requirement already satisfied: grpcio<2.0,>=1.24.3 in c:\\users\\alokg\\anaconda\\lib\\site-packages (from tensorflow) (1.75.1)\n",
      "Requirement already satisfied: tensorboard~=2.20.0 in c:\\users\\alokg\\anaconda\\lib\\site-packages (from tensorflow) (2.20.0)\n",
      "Requirement already satisfied: keras>=3.10.0 in c:\\users\\alokg\\anaconda\\lib\\site-packages (from tensorflow) (3.11.3)\n",
      "Requirement already satisfied: numpy>=1.26.0 in c:\\users\\alokg\\anaconda\\lib\\site-packages (from tensorflow) (1.26.4)\n",
      "Requirement already satisfied: h5py>=3.11.0 in c:\\users\\alokg\\anaconda\\lib\\site-packages (from tensorflow) (3.11.0)\n",
      "Requirement already satisfied: ml_dtypes<1.0.0,>=0.5.1 in c:\\users\\alokg\\anaconda\\lib\\site-packages (from tensorflow) (0.5.3)\n",
      "Requirement already satisfied: wheel<1.0,>=0.23.0 in c:\\users\\alokg\\anaconda\\lib\\site-packages (from astunparse>=1.6.0->tensorflow) (0.44.0)\n",
      "Requirement already satisfied: rich in c:\\users\\alokg\\appdata\\roaming\\python\\python312\\site-packages (from keras>=3.10.0->tensorflow) (13.9.4)\n",
      "Requirement already satisfied: namex in c:\\users\\alokg\\anaconda\\lib\\site-packages (from keras>=3.10.0->tensorflow) (0.1.0)\n",
      "Requirement already satisfied: optree in c:\\users\\alokg\\anaconda\\lib\\site-packages (from keras>=3.10.0->tensorflow) (0.17.0)\n",
      "Requirement already satisfied: charset-normalizer<4,>=2 in c:\\users\\alokg\\appdata\\roaming\\python\\python312\\site-packages (from requests<3,>=2.21.0->tensorflow) (3.4.1)\n",
      "Requirement already satisfied: idna<4,>=2.5 in c:\\users\\alokg\\appdata\\roaming\\python\\python312\\site-packages (from requests<3,>=2.21.0->tensorflow) (3.10)\n",
      "Requirement already satisfied: urllib3<3,>=1.21.1 in c:\\users\\alokg\\appdata\\roaming\\python\\python312\\site-packages (from requests<3,>=2.21.0->tensorflow) (1.26.20)\n",
      "Requirement already satisfied: certifi>=2017.4.17 in c:\\users\\alokg\\appdata\\roaming\\python\\python312\\site-packages (from requests<3,>=2.21.0->tensorflow) (2025.1.31)\n",
      "Requirement already satisfied: markdown>=2.6.8 in c:\\users\\alokg\\anaconda\\lib\\site-packages (from tensorboard~=2.20.0->tensorflow) (3.4.1)\n",
      "Requirement already satisfied: pillow in c:\\users\\alokg\\anaconda\\lib\\site-packages (from tensorboard~=2.20.0->tensorflow) (10.4.0)\n",
      "Requirement already satisfied: tensorboard-data-server<0.8.0,>=0.7.0 in c:\\users\\alokg\\anaconda\\lib\\site-packages (from tensorboard~=2.20.0->tensorflow) (0.7.2)\n",
      "Requirement already satisfied: werkzeug>=1.0.1 in c:\\users\\alokg\\anaconda\\lib\\site-packages (from tensorboard~=2.20.0->tensorflow) (3.0.3)\n",
      "Requirement already satisfied: MarkupSafe>=2.1.1 in c:\\users\\alokg\\anaconda\\lib\\site-packages (from werkzeug>=1.0.1->tensorboard~=2.20.0->tensorflow) (2.1.3)\n",
      "Requirement already satisfied: markdown-it-py>=2.2.0 in c:\\users\\alokg\\appdata\\roaming\\python\\python312\\site-packages (from rich->keras>=3.10.0->tensorflow) (3.0.0)\n",
      "Requirement already satisfied: pygments<3.0.0,>=2.13.0 in c:\\users\\alokg\\appdata\\roaming\\python\\python312\\site-packages (from rich->keras>=3.10.0->tensorflow) (2.19.1)\n",
      "Requirement already satisfied: mdurl~=0.1 in c:\\users\\alokg\\appdata\\roaming\\python\\python312\\site-packages (from markdown-it-py>=2.2.0->rich->keras>=3.10.0->tensorflow) (0.1.2)\n"
     ]
    }
   ],
   "source": [
    "!pip install keras\n",
    "!pip install tensorflow"
   ]
  },
  {
   "cell_type": "code",
   "execution_count": 4,
   "id": "e3f99bcc-4728-4508-a457-146226a04f77",
   "metadata": {},
   "outputs": [],
   "source": [
    "from tensorflow.keras.datasets import mnist"
   ]
  },
  {
   "cell_type": "code",
   "execution_count": 7,
   "id": "ec4625ed-6afd-4e6c-9155-7f58cbf05fa0",
   "metadata": {},
   "outputs": [],
   "source": [
    "(X_train,y_train), (X_test,y_test) = mnist.load_data()\n",
    "X = X_train[y_train==2][:100].reshape(-1, 28*28).T\n",
    "test_image = X_test[y_test == 2][0].reshape(28*28)\n"
   ]
  },
  {
   "cell_type": "code",
   "execution_count": 35,
   "id": "011dd8fb-397e-4944-8534-2169e6e2eff9",
   "metadata": {},
   "outputs": [
    {
     "data": {
      "image/png": "[encoded data removed]",
      "text/plain": [
       "<Figure size 640x480 with 1 Axes>"
      ]
     },
     "metadata": {},
     "output_type": "display_data"
    }
   ],
   "source": [
    "# Obseving the first image of the dataset\n",
    "import numpy as np\n",
    "import matplotlib.pyplot as plt\n",
    "img = X[:,0].reshape(28, 28)\n",
    "plt.imshow(img, cmap='gray');"
   ]
  },
  {
   "cell_type": "code",
   "execution_count": null,
   "id": "e17c7ffd-cb67-4cc4-859f-ba504c7a5b85",
   "metadata": {},
   "outputs": [],
   "source": []
  },
  {
   "cell_type": "markdown",
   "id": "77cec52c-2882-4d75-bda6-f83698b5d7d4",
   "metadata": {},
   "source": [
    "\n",
    "### We need to center the dataset X around its mean. Let us call this centered dataset X'"
   ]
  },
  {
   "cell_type": "code",
   "execution_count": 14,
   "id": "18103699-c4c0-4f8c-a72b-37454a00a9ed",
   "metadata": {},
   "outputs": [],
   "source": [
    "def center(X):\n",
    "    return X - X.mean(axis=1).reshape(-1,1)\n",
    "\n",
    "d,n = X.shape\n",
    "X_prime = center(X)"
   ]
  },
  {
   "cell_type": "markdown",
   "id": "8eb7489e-706b-4d46-b647-b689b485ee7f",
   "metadata": {},
   "source": [
    "Computing the covariance matrix C on the centered dataset "
   ]
  },
  {
   "cell_type": "code",
   "execution_count": 19,
   "id": "909e65a3-d85f-464b-9045-d4df0c96d12c",
   "metadata": {},
   "outputs": [],
   "source": [
    "def covariance(X):\n",
    "    return X @ X.T / X.shape[1]\n",
    "\n",
    "C = covariance(X_prime)"
   ]
  },
  {
   "cell_type": "markdown",
   "id": "955a4cf4-cffb-472e-b070-93f4380c63d8",
   "metadata": {},
   "source": [
    "Computing the first and second principal components of the datasets w1 and w2"
   ]
  },
  {
   "cell_type": "code",
   "execution_count": 37,
   "id": "f46d04bf-2bca-454d-b18b-a16d2247d13a",
   "metadata": {},
   "outputs": [],
   "source": [
    "def compute_pc(C):\n",
    "    d = C.shape[0]\n",
    "    eigval, eigvec = np.linalg.eigh(C)\n",
    "    w_1, w_2 = eigvec[:, -1], eigvec[:, -2]\n",
    "    return w_1, w_2\n",
    "\n",
    "w_1, w_2 = compute_pc(C)"
   ]
  },
  {
   "cell_type": "markdown",
   "id": "cacd28fa-d6ff-4316-bd25-bfe76f103442",
   "metadata": {},
   "source": [
    "Visualizing the first principal component as an image"
   ]
  },
  {
   "cell_type": "code",
   "execution_count": 39,
   "id": "4493135a-39b7-40cf-ab2f-9e4bd788eb97",
   "metadata": {},
   "outputs": [
    {
     "data": {
      "text/plain": [
       "<matplotlib.image.AxesImage at 0x186fbde1880>"
      ]
     },
     "execution_count": 39,
     "metadata": {},
     "output_type": "execute_result"
    },
    {
     "data": {
      "image/png": "[encoded data removed]",
      "text/plain": [
       "<Figure size 640x480 with 1 Axes>"
      ]
     },
     "metadata": {},
     "output_type": "display_data"
    }
   ],
   "source": [
    "w_1_image = w_1.reshape(28,28)\n",
    "plt.imshow(w_1_image, cmap ='gray')"
   ]
  },
  {
   "cell_type": "raw",
   "id": "1515757c-03ba-4fd4-b468-21cdbf3b8dc0",
   "metadata": {},
   "source": [
    "Given a test image, visualize the proxies by reconstructing it using the top k principal components. Consider four values of k, values of k for\n",
    "which the top-k principal components explain:\n",
    "- 20% of the variance\n",
    "- 50% of the variance\n",
    "- 80% of the variance\n",
    "- 95% of the variance"
   ]
  },
  {
   "cell_type": "code",
   "execution_count": 47,
   "id": "d886f4d0-ed08-471f-a422-b57fa2749841",
   "metadata": {},
   "outputs": [
    {
     "data": {
      "text/plain": [
       "Text(0.5, 1.0, 'test image')"
      ]
     },
     "execution_count": 47,
     "metadata": {},
     "output_type": "execute_result"
    },
    {
     "data": {
      "image/png": "[encoded data removed]",
      "text/plain": [
       "<Figure size 2000x2000 with 5 Axes>"
      ]
     },
     "metadata": {},
     "output_type": "display_data"
    }
   ],
   "source": [
    "def reconstruct(C, test_image, thresh):\n",
    "    eigval, eigvec = np.linalg.eigh(C)\n",
    "    eigval = list (reversed (eigval))\n",
    "    tot = sum(eigval)\n",
    "    K = len(eigval)\n",
    "    for k in range(len(eigval)):\n",
    "        if sum(eigval[: k+1]) / tot > thresh:\n",
    "            k = k + 1\n",
    "            break\n",
    "    W = eigvec[:, -K:]\n",
    "    coeff = test_image @ W\n",
    "    return W@coeff\n",
    "\n",
    "plt.figure(figsize=(20,20))\n",
    "#0.20\n",
    "recon_image = reconstruct(C, test_image, 0.20)\n",
    "plt.subplot(1, 5, 1)\n",
    "plt.imshow(recon_image.reshape(28, 28))\n",
    "plt.title(\"Variance covered = 20%\")\n",
    "#0.5\n",
    "recon_image = reconstruct(C, test_image, 0.50)\n",
    "plt.subplot(1, 5, 2)\n",
    "plt.imshow(recon_image.reshape(28, 28))\n",
    "plt.title(\"Variance covered = 50%\")\n",
    "#0.80\n",
    "recon_image = reconstruct(C, test_image, 0.80)\n",
    "plt.subplot(1, 5, 3)\n",
    "plt.imshow(recon_image.reshape(28, 28))\n",
    "plt.title(\"Variance covered = 80%\")\n",
    "#0.95\n",
    "recon_image = reconstruct(C, test_image, 0.95)\n",
    "plt.subplot(1, 5, 4)\n",
    "plt.imshow(recon_image.reshape(28, 28))\n",
    "plt.title(\"Variance covered = 95%\")\n",
    "\n",
    "# original mean subtracted image\n",
    "test_image = np.float64(test_image) - X.mean(axis=1)\n",
    "plt.subplot(1,5,5)\n",
    "plt.imshow(recon_image.reshape(28,28))\n",
    "plt.title(\"test image\")"
   ]
  },
  {
   "cell_type": "code",
   "execution_count": null,
   "id": "77a2c81d-fc21-4640-b596-65e128d582d2",
   "metadata": {},
   "outputs": [],
   "source": []
  },
  {
   "cell_type": "code",
   "execution_count": null,
   "id": "b55bb0ef-a7a2-429a-8f49-1adec37dbb3b",
   "metadata": {},
   "outputs": [],
   "source": []
  },
  {
   "cell_type": "code",
   "execution_count": null,
   "id": "9ac9e15a-99f5-4998-9a06-22a739ba5fb1",
   "metadata": {},
   "outputs": [],
   "source": []
  },
  {
   "cell_type": "code",
   "execution_count": null,
   "id": "fa01fdd7-41fc-488e-a2c2-6e50663c46b8",
   "metadata": {},
   "outputs": [],
   "source": []
  },
  {
   "cell_type": "code",
   "execution_count": null,
   "id": "9d721115-a365-4900-9f07-4a4776257541",
   "metadata": {},
   "outputs": [],
   "source": []
  },
  {
   "cell_type": "code",
   "execution_count": null,
   "id": "2e61d35a-ef1d-4383-b311-c419a0a55897",
   "metadata": {},
   "outputs": [],
   "source": []
  },
  {
   "cell_type": "code",
   "execution_count": null,
   "id": "f9603e10-9665-4ba8-98c8-123b18a0487e",
   "metadata": {},
   "outputs": [],
   "source": []
  },
  {
   "cell_type": "code",
   "execution_count": null,
   "id": "3bd4d654-135a-4912-81dc-3f5f43655467",
   "metadata": {},
   "outputs": [],
   "source": []
  },
  {
   "cell_type": "code",
   "execution_count": null,
   "id": "efa56a1e-fc7a-4794-83d5-5b41e9eb7ce2",
   "metadata": {},
   "outputs": [],
   "source": []
  },
  {
   "cell_type": "code",
   "execution_count": null,
   "id": "bf982b95-d789-4aea-aa0a-482cbf87af17",
   "metadata": {},
   "outputs": [],
   "source": []
  },
  {
   "cell_type": "code",
   "execution_count": null,
   "id": "c571edb6-8a04-407f-b3c6-6117c70ed345",
   "metadata": {},
   "outputs": [],
   "source": []
  },
  {
   "cell_type": "code",
   "execution_count": null,
   "id": "3ba6c422-c712-4cc9-9a5b-8face0c53156",
   "metadata": {},
   "outputs": [],
   "source": []
  },
  {
   "cell_type": "code",
   "execution_count": null,
   "id": "62a0676b-b092-422b-8ca2-f764499f5cdb",
   "metadata": {},
   "outputs": [],
   "source": []
  },
  {
   "cell_type": "code",
   "execution_count": null,
   "id": "edbbae12-e324-498b-8630-d58628b0f3c8",
   "metadata": {},
   "outputs": [],
   "source": []
  }
 ],
 "metadata": {
  "kernelspec": {
   "display_name": "Python 3 (ipykernel)",
   "language": "python",
   "name": "python3"
  },
  "language_info": {
   "codemirror_mode": {
    "name": "ipython",
    "version": 3
   },
   "file_extension": ".py",
   "mimetype": "text/x-python",
   "name": "python",
   "nbconvert_exporter": "python",
   "pygments_lexer": "ipython3",
   "version": "3.12.7"
  }
 },
 "nbformat": 4,
 "nbformat_minor": 5
}
