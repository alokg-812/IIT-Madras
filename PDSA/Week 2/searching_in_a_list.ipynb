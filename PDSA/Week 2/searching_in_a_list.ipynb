{
 "cells": [
  {
   "cell_type": "code",
   "execution_count": 4,
   "id": "07e558f9",
   "metadata": {},
   "outputs": [
    {
     "name": "stdout",
     "output_type": "stream",
     "text": [
      "False\n",
      "True\n"
     ]
    }
   ],
   "source": [
    "def naiveSearch(val,ls):\n",
    "    for x in ls:\n",
    "        if x == val:\n",
    "            return True\n",
    "    return False\n",
    "    \n",
    "ls = [1,3,5,7,9,11,13,15]\n",
    "print(naiveSearch(8,ls))\n",
    "print(naiveSearch(13,ls))\n",
    "\n",
    "# Best Case: O(n)\n",
    "# Worst Case: O(n)\n",
    "# Average Case: O(n)"
   ]
  },
  {
   "cell_type": "code",
   "execution_count": 5,
   "id": "7d48dca8",
   "metadata": {},
   "outputs": [
    {
     "name": "stdout",
     "output_type": "stream",
     "text": [
      "5\n",
      "0\n"
     ]
    }
   ],
   "source": [
    "# Searching in a sorted list\n",
    "def binary_search(sorted_list, target):\n",
    "    low = 0\n",
    "    high = len(sorted_list) - 1\n",
    "    while low <= high:\n",
    "        mid = (low + high) // 2\n",
    "        if sorted_list[mid] == target:\n",
    "            return mid\n",
    "        elif sorted_list[mid] < target:\n",
    "            low = mid + 1\n",
    "        else:\n",
    "            high = mid - 1\n",
    "    return -1\n",
    "\n",
    "# Searching in the list through recursion\n",
    "def recursive_binary_search(sorted_list, target):\n",
    "    if len(sorted_list) == 0:\n",
    "        return -1\n",
    "    mid = len(sorted_list) // 2\n",
    "    if sorted_list[mid] == target:\n",
    "        return mid\n",
    "    elif sorted_list[mid] < target:\n",
    "        return recursive_binary_search(sorted_list[mid+1:], target)\n",
    "    else:\n",
    "        return recursive_binary_search(sorted_list[:mid], target)\n",
    "\n",
    "ls = [1,3,5,7,9,11,13,15]\n",
    "print(binary_search(ls, 11))\n",
    "print(recursive_binary_search(ls, 11))\n"
   ]
  },
  {
   "cell_type": "markdown",
   "id": "89d3426b",
   "metadata": {},
   "source": []
  }
 ],
 "metadata": {
  "kernelspec": {
   "display_name": "Python 3",
   "language": "python",
   "name": "python3"
  },
  "language_info": {
   "codemirror_mode": {
    "name": "ipython",
    "version": 3
   },
   "file_extension": ".py",
   "mimetype": "text/x-python",
   "name": "python",
   "nbconvert_exporter": "python",
   "pygments_lexer": "ipython3",
   "version": "3.12.4"
  }
 },
 "nbformat": 4,
 "nbformat_minor": 5
}
