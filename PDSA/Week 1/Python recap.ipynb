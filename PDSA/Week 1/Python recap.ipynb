{
 "cells": [
  {
   "cell_type": "markdown",
   "id": "68705411",
   "metadata": {},
   "source": [
    "# Lecture-3"
   ]
  },
  {
   "cell_type": "code",
   "execution_count": 10,
   "id": "65353b31",
   "metadata": {},
   "outputs": [],
   "source": [
    "#Calculating GCD:\n",
    "def gcd(a,b):\n",
    "    common_factors = []\n",
    "    for i in range(1, min(a,b)+1):\n",
    "        if(a%i == 0) and (b%i == 0):\n",
    "            common_factors.append(i)\n",
    "    return (common_factors[-1])"
   ]
  },
  {
   "cell_type": "code",
   "execution_count": 11,
   "id": "d10e0c72",
   "metadata": {},
   "outputs": [
    {
     "name": "stdout",
     "output_type": "stream",
     "text": [
      "4\n"
     ]
    }
   ],
   "source": [
    "print(gcd(8,12))"
   ]
  },
  {
   "cell_type": "code",
   "execution_count": 12,
   "id": "6951c96c",
   "metadata": {},
   "outputs": [
    {
     "name": "stdout",
     "output_type": "stream",
     "text": [
      "1\n"
     ]
    }
   ],
   "source": [
    "print(gcd(18,25))"
   ]
  },
  {
   "cell_type": "markdown",
   "id": "28838fdd",
   "metadata": {},
   "source": [
    "# lecture 4"
   ]
  },
  {
   "cell_type": "code",
   "execution_count": 14,
   "id": "d02e7c95",
   "metadata": {},
   "outputs": [],
   "source": [
    "#checking primality\n",
    "def factors(n):\n",
    "    factors = []\n",
    "    for i in range(1, n+1):\n",
    "        if n%i == 0:\n",
    "            factors.append(i)\n",
    "    return factors"
   ]
  },
  {
   "cell_type": "code",
   "execution_count": 22,
   "id": "54c2cf88",
   "metadata": {},
   "outputs": [
    {
     "name": "stdout",
     "output_type": "stream",
     "text": [
      "Enter the number to check whether its prime or not: 9\n",
      "False\n",
      "[1, 3, 9]\n"
     ]
    }
   ],
   "source": [
    "n = int(input(\"Enter the number to check whether its prime or not: \"))\n",
    "print(factors(n) == [1,n])\n",
    "print(factors(n))"
   ]
  },
  {
   "cell_type": "code",
   "execution_count": 20,
   "id": "11eaf241",
   "metadata": {},
   "outputs": [],
   "source": [
    "# muliple simultaneous assignment:\n",
    "(count, i , pl) = (0,1, [])"
   ]
  },
  {
   "cell_type": "code",
   "execution_count": 23,
   "id": "fb4a12d0",
   "metadata": {},
   "outputs": [],
   "source": [
    "# TWIN PRIME CONJENCTURE:\n",
    "# there are infinitely many twin primes like 5 and 7, 17 and 19, where the gap between two primes boil down to 2."
   ]
  },
  {
   "cell_type": "markdown",
   "id": "405e5bd7",
   "metadata": {},
   "source": [
    "#  Lecture 5"
   ]
  },
  {
   "cell_type": "code",
   "execution_count": null,
   "id": "2b7fd402",
   "metadata": {},
   "outputs": [],
   "source": [
    "# we have seen the way to calculate GCD, but it was iterating on all values of between the range"
   ]
  },
  {
   "cell_type": "code",
   "execution_count": 27,
   "id": "c6d0390c",
   "metadata": {},
   "outputs": [],
   "source": [
    "\"\"\"\n",
    "    it can be done through recursion\n",
    "    suppose there are 2 numbers m and n whose GCD has to be calculated\n",
    "    lets say for any common factor d:\n",
    "    m = ad and n = bd\n",
    "    m-n = ad-bd\n",
    "        = (a-b)d\n",
    "        hence d also divides (m-n)\n",
    "\"\"\"\n",
    "def gcd(m,n):\n",
    "    (a,b) = (max(m,n), min(m,n))\n",
    "    if (a%b == 0):\n",
    "        return(b)\n",
    "    else:\n",
    "        return gcd(n,m-n)"
   ]
  },
  {
   "cell_type": "code",
   "execution_count": 31,
   "id": "43a98edd",
   "metadata": {},
   "outputs": [
    {
     "name": "stdout",
     "output_type": "stream",
     "text": [
      "1\n"
     ]
    }
   ],
   "source": [
    "print(gcd(97,2)) #output = 1\n",
    "# TC(max(m,n))"
   ]
  },
  {
   "cell_type": "markdown",
   "id": "9755157d",
   "metadata": {},
   "source": [
    "Euclid's Algorithm"
   ]
  },
  {
   "cell_type": "code",
   "execution_count": null,
   "id": "02fc8669",
   "metadata": {},
   "outputs": [],
   "source": [
    "\"\"\"\n",
    "    While talking about m-n divisible by d\n",
    "    we can also observe that m%n is also divisible by d\n",
    "\"\"\""
   ]
  },
  {
   "cell_type": "code",
   "execution_count": 32,
   "id": "a33303a6",
   "metadata": {},
   "outputs": [
    {
     "name": "stdout",
     "output_type": "stream",
     "text": [
      "1\n"
     ]
    }
   ],
   "source": [
    "def gcd(m,n):\n",
    "    (a,b) = (max(m,n), min(m,n))\n",
    "    if (a%b == 0):\n",
    "        return(b)\n",
    "    else:\n",
    "        return gcd(n,m%n)\n",
    "print(gcd(97,2))\n",
    "\n",
    "# TC(maximum number of digits in max(m,n))"
   ]
  },
  {
   "cell_type": "markdown",
   "id": "ac380de2",
   "metadata": {},
   "source": [
    "#  Lecture 6"
   ]
  },
  {
   "cell_type": "code",
   "execution_count": null,
   "id": "56e7cf0e",
   "metadata": {},
   "outputs": [],
   "source": [
    "\"\"\"\n",
    "Our code could generate many types of errors\n",
    "    -> y = x/z, but z has value 0\n",
    "    -> y = int(s), but string s does not represent a valid integer\n",
    "    -> y = 5*x, but x does not have a value\n",
    "    -> y = l[i], but i is not a valid index for list l\n",
    "    -> Try to read from a file, but the file does not exist\n",
    "    -> Try to write to a file, but the disk is full\n",
    "\n",
    "\n",
    "    -> Recovering gracefully\n",
    "        -> Try to anticipate errors\n",
    "        -> Provide a contingency plan\n",
    "        -> Exception handling\n",
    "\"\"\""
   ]
  },
  {
   "cell_type": "code",
   "execution_count": 37,
   "id": "7bc45b10",
   "metadata": {},
   "outputs": [
    {
     "data": {
      "text/plain": [
       "'\\nHandling exceptions\\n    try:\\n        ... ← Code where error may occur\\n        ...\\n    except IndexError:\\n        ... ← Handle IndexError\\n    except (NameError,KeyError):\\n        ... ← Handle multiple exception types\\n    except:\\n        ... ← Handle all other exceptions\\n    else:\\n        ... ← Execute if try runs without errors\\n\\n'"
      ]
     },
     "execution_count": 37,
     "metadata": {},
     "output_type": "execute_result"
    }
   ],
   "source": [
    "# To handle the error, we can:\n",
    "\n",
    "\"\"\"\n",
    "Raise an exception\n",
    "    -> Run time error → signal error type, with diagnostic information\n",
    "    NameError: name ’x’ is not defined\n",
    "\n",
    "    -> Handle an exception\n",
    "    Anticipate and take corrective action based on error type\n",
    "\n",
    "    -> Unhandled exception aborts execution\n",
    "\"\"\"\n",
    "\n",
    "\"\"\"\n",
    "Handling exceptions\n",
    "    try:\n",
    "        ... ← Code where error may occur\n",
    "        ...\n",
    "    except IndexError:\n",
    "        ... ← Handle IndexError\n",
    "    except (NameError,KeyError):\n",
    "        ... ← Handle multiple exception types\n",
    "    except:\n",
    "        ... ← Handle all other exceptions\n",
    "    else:\n",
    "        ... ← Execute if try runs without errors\n",
    "\n",
    "\"\"\""
   ]
  },
  {
   "cell_type": "markdown",
   "id": "7bed2c2d",
   "metadata": {},
   "source": []
  },
  {
   "cell_type": "markdown",
   "id": "6eecb3b4",
   "metadata": {},
   "source": [
    "# Lecture 7 \n",
    "## Classes and Objects"
   ]
  },
  {
   "cell_type": "code",
   "execution_count": null,
   "id": "d65f7375",
   "metadata": {},
   "outputs": [],
   "source": [
    "\"\"\"\n",
    "• Abstract datatype\n",
    "    -> Stores some information\n",
    "    -> Designated functions to manipulate the information\n",
    "    -> For instance, stack: last-in, first-out, push(), pop()\n",
    "• Separate the (private) implementation from the (public) specification\n",
    "\n",
    "• Class\n",
    "    -> Template for a data type\n",
    "    -> How data is stored\n",
    "    -> How public functions manipulate data\n",
    "• Object\n",
    "    -> Concrete instance of template\n",
    "\"\"\""
   ]
  },
  {
   "cell_type": "code",
   "execution_count": 54,
   "id": "51765c95",
   "metadata": {},
   "outputs": [],
   "source": [
    "class Point:\n",
    "    def __init__(self,a=0,b=0):\n",
    "        self.x = a\n",
    "        self.y = b\n",
    "    \n",
    "    def translate(self,deltax,deltay):\n",
    "        self.x += deltax\n",
    "        self.y += deltay\n",
    "\n",
    "    def odistance(self):\n",
    "        import math\n",
    "        d = math.sqrt((self.x*self.x) + (self.y*self.y))\n",
    "        return(d)\n",
    "    \n",
    "    def __init__(self,a=0,b=0):\n",
    "        self.r = math.sqrt(a*a + b*b)\n",
    "        if a == 0:\n",
    "            self.theta = math.pi/2\n",
    "        else:\n",
    "            self.theta = math.atan(b/a)"
   ]
  },
  {
   "cell_type": "code",
   "execution_count": 55,
   "id": "bdef3bc9",
   "metadata": {},
   "outputs": [],
   "source": [
    "p = Point(3,4)\n",
    "q = Point(6,8)"
   ]
  },
  {
   "cell_type": "code",
   "execution_count": 57,
   "id": "f91ec20c",
   "metadata": {},
   "outputs": [
    {
     "ename": "TypeError",
     "evalue": "unsupported operand type(s) for +: 'Point' and 'Point'",
     "output_type": "error",
     "traceback": [
      "\u001b[1;31m---------------------------------------------------------------------------\u001b[0m",
      "\u001b[1;31mTypeError\u001b[0m                                 Traceback (most recent call last)",
      "Cell \u001b[1;32mIn[57], line 1\u001b[0m\n\u001b[1;32m----> 1\u001b[0m \u001b[38;5;28mprint\u001b[39m(p\u001b[38;5;241m+\u001b[39mq)\n",
      "\u001b[1;31mTypeError\u001b[0m: unsupported operand type(s) for +: 'Point' and 'Point'"
     ]
    }
   ],
   "source": [
    "print(p+q)"
   ]
  },
  {
   "cell_type": "code",
   "execution_count": 58,
   "id": "a29e94ee",
   "metadata": {},
   "outputs": [
    {
     "data": {
      "text/plain": [
       "(<__main__.Point at 0x1a2d8201790>, <__main__.Point at 0x1a2d8345150>)"
      ]
     },
     "execution_count": 58,
     "metadata": {},
     "output_type": "execute_result"
    }
   ],
   "source": [
    "p,q"
   ]
  },
  {
   "cell_type": "code",
   "execution_count": 59,
   "id": "a9fbf9d5",
   "metadata": {},
   "outputs": [
    {
     "ename": "AttributeError",
     "evalue": "'Point' object has no attribute 'x'",
     "output_type": "error",
     "traceback": [
      "\u001b[1;31m---------------------------------------------------------------------------\u001b[0m",
      "\u001b[1;31mAttributeError\u001b[0m                            Traceback (most recent call last)",
      "Cell \u001b[1;32mIn[59], line 1\u001b[0m\n\u001b[1;32m----> 1\u001b[0m p\u001b[38;5;241m.\u001b[39modistance()\n",
      "Cell \u001b[1;32mIn[54], line 12\u001b[0m, in \u001b[0;36mPoint.odistance\u001b[1;34m(self)\u001b[0m\n\u001b[0;32m     10\u001b[0m \u001b[38;5;28;01mdef\u001b[39;00m \u001b[38;5;21modistance\u001b[39m(\u001b[38;5;28mself\u001b[39m):\n\u001b[0;32m     11\u001b[0m     \u001b[38;5;28;01mimport\u001b[39;00m \u001b[38;5;21;01mmath\u001b[39;00m\n\u001b[1;32m---> 12\u001b[0m     d \u001b[38;5;241m=\u001b[39m math\u001b[38;5;241m.\u001b[39msqrt((\u001b[38;5;28mself\u001b[39m\u001b[38;5;241m.\u001b[39mx\u001b[38;5;241m*\u001b[39m\u001b[38;5;28mself\u001b[39m\u001b[38;5;241m.\u001b[39mx) \u001b[38;5;241m+\u001b[39m (\u001b[38;5;28mself\u001b[39m\u001b[38;5;241m.\u001b[39my\u001b[38;5;241m*\u001b[39m\u001b[38;5;28mself\u001b[39m\u001b[38;5;241m.\u001b[39my))\n\u001b[0;32m     13\u001b[0m     \u001b[38;5;28;01mreturn\u001b[39;00m(d)\n",
      "\u001b[1;31mAttributeError\u001b[0m: 'Point' object has no attribute 'x'"
     ]
    }
   ],
   "source": [
    "p.odistance()"
   ]
  },
  {
   "cell_type": "code",
   "execution_count": null,
   "id": "13e63f65",
   "metadata": {},
   "outputs": [],
   "source": []
  },
  {
   "cell_type": "code",
   "execution_count": null,
   "id": "08f740f4",
   "metadata": {},
   "outputs": [],
   "source": []
  },
  {
   "cell_type": "code",
   "execution_count": null,
   "id": "0ea17438",
   "metadata": {},
   "outputs": [],
   "source": []
  },
  {
   "cell_type": "code",
   "execution_count": null,
   "id": "0b7dddf8",
   "metadata": {},
   "outputs": [],
   "source": []
  }
 ],
 "metadata": {
  "kernelspec": {
   "display_name": "Python 3 (ipykernel)",
   "language": "python",
   "name": "python3"
  },
  "language_info": {
   "codemirror_mode": {
    "name": "ipython",
    "version": 3
   },
   "file_extension": ".py",
   "mimetype": "text/x-python",
   "name": "python",
   "nbconvert_exporter": "python",
   "pygments_lexer": "ipython3",
   "version": "3.11.5"
  }
 },
 "nbformat": 4,
 "nbformat_minor": 5
}
