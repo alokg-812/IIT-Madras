{
 "cells": [
  {
   "cell_type": "markdown",
   "id": "7a317da3",
   "metadata": {},
   "source": [
    "# Lecture-3"
   ]
  },
  {
   "cell_type": "code",
   "execution_count": 10,
   "id": "fbf44f2a",
   "metadata": {},
   "outputs": [],
   "source": [
    "#Calculating GCD:\n",
    "def gcd(a,b):\n",
    "    common_factors = []\n",
    "    for i in range(1, min(a,b)+1):\n",
    "        if(a%i == 0) and (b%i == 0):\n",
    "            common_factors.append(i)\n",
    "    return (common_factors[-1])"
   ]
  },
  {
   "cell_type": "code",
   "execution_count": 11,
   "id": "7c974a8e",
   "metadata": {},
   "outputs": [
    {
     "name": "stdout",
     "output_type": "stream",
     "text": [
      "4\n"
     ]
    }
   ],
   "source": [
    "print(gcd(8,12))"
   ]
  },
  {
   "cell_type": "code",
   "execution_count": 12,
   "id": "d74d1597",
   "metadata": {},
   "outputs": [
    {
     "name": "stdout",
     "output_type": "stream",
     "text": [
      "1\n"
     ]
    }
   ],
   "source": [
    "print(gcd(18,25))"
   ]
  },
  {
   "cell_type": "markdown",
   "id": "992e1a08",
   "metadata": {},
   "source": [
    "# lecture 4"
   ]
  },
  {
   "cell_type": "code",
   "execution_count": 14,
   "id": "ddf4da66",
   "metadata": {},
   "outputs": [],
   "source": [
    "#checking primality\n",
    "def factors(n):\n",
    "    factors = []\n",
    "    for i in range(1, n+1):\n",
    "        if n%i == 0:\n",
    "            factors.append(i)\n",
    "    return factors"
   ]
  },
  {
   "cell_type": "code",
   "execution_count": 22,
   "id": "c3f4a97b",
   "metadata": {},
   "outputs": [
    {
     "name": "stdout",
     "output_type": "stream",
     "text": [
      "Enter the number to check whether its prime or not: 9\n",
      "False\n",
      "[1, 3, 9]\n"
     ]
    }
   ],
   "source": [
    "n = int(input(\"Enter the number to check whether its prime or not: \"))\n",
    "print(factors(n) == [1,n])\n",
    "print(factors(n))"
   ]
  },
  {
   "cell_type": "code",
   "execution_count": 20,
   "id": "dca5d3be",
   "metadata": {},
   "outputs": [],
   "source": [
    "# muliple simultaneous assignment:\n",
    "(count, i , pl) = (0,1, [])"
   ]
  },
  {
   "cell_type": "code",
   "execution_count": 23,
   "id": "0bc30ece",
   "metadata": {},
   "outputs": [],
   "source": [
    "# TWIN PRIME CONJENCTURE:\n",
    "# there are infinitely many twin primes like 5 and 7, 17 and 19, where the gap between two primes boil down to 2."
   ]
  },
  {
   "cell_type": "markdown",
   "id": "b49e69f1",
   "metadata": {},
   "source": [
    "#  Lecture 5"
   ]
  },
  {
   "cell_type": "code",
   "execution_count": null,
   "id": "e2cc47ea",
   "metadata": {},
   "outputs": [],
   "source": [
    "# we have seen the way to calculate GCD, but it was iterating on all values of between the range"
   ]
  },
  {
   "cell_type": "code",
   "execution_count": 27,
   "id": "bad60024",
   "metadata": {},
   "outputs": [],
   "source": [
    "\"\"\"\n",
    "    it can be done through recursion\n",
    "    suppose there are 2 numbers m and n whose GCD has to be calculated\n",
    "    lets say for any common factor d:\n",
    "    m = ad and n = bd\n",
    "    m-n = ad-bd\n",
    "        = (a-b)d\n",
    "        hence d also divides (m-n)\n",
    "\"\"\"\n",
    "def gcd(m,n):\n",
    "    (a,b) = (max(m,n), min(m,n))\n",
    "    if (a%b == 0):\n",
    "        return(b)\n",
    "    else:\n",
    "        return gcd(n,m-n)"
   ]
  },
  {
   "cell_type": "code",
   "execution_count": 31,
   "id": "b1330c0c",
   "metadata": {},
   "outputs": [
    {
     "name": "stdout",
     "output_type": "stream",
     "text": [
      "1\n"
     ]
    }
   ],
   "source": [
    "print(gcd(97,2)) #output = 1\n",
    "# TC(max(m,n))"
   ]
  },
  {
   "cell_type": "markdown",
   "id": "27e43e24",
   "metadata": {},
   "source": [
    "Euclid's Algorithm"
   ]
  },
  {
   "cell_type": "code",
   "execution_count": null,
   "id": "1d134c8f",
   "metadata": {},
   "outputs": [],
   "source": [
    "\"\"\"\n",
    "    While talking about m-n divisible by d\n",
    "    we can also observe that m%n is also divisible by d\n",
    "\"\"\""
   ]
  },
  {
   "cell_type": "code",
   "execution_count": 32,
   "id": "32ff2120",
   "metadata": {},
   "outputs": [
    {
     "name": "stdout",
     "output_type": "stream",
     "text": [
      "1\n"
     ]
    }
   ],
   "source": [
    "def gcd(m,n):\n",
    "    (a,b) = (max(m,n), min(m,n))\n",
    "    if (a%b == 0):\n",
    "        return(b)\n",
    "    else:\n",
    "        return gcd(n,m%n)\n",
    "print(gcd(97,2))\n",
    "\n",
    "# TC(maximum number of digits in max(m,n))"
   ]
  },
  {
   "cell_type": "markdown",
   "id": "aa6ff200",
   "metadata": {},
   "source": [
    "#  Lecture 6"
   ]
  },
  {
   "cell_type": "code",
   "execution_count": null,
   "id": "4a6ca1c4",
   "metadata": {},
   "outputs": [],
   "source": [
    "\"\"\"\n",
    "Our code could generate many types of errors\n",
    "    -> y = x/z, but z has value 0\n",
    "    -> y = int(s), but string s does not represent a valid integer\n",
    "    -> y = 5*x, but x does not have a value\n",
    "    -> y = l[i], but i is not a valid index for list l\n",
    "    -> Try to read from a file, but the file does not exist\n",
    "    -> Try to write to a file, but the disk is full\n",
    "\n",
    "\n",
    "    -> Recovering gracefully\n",
    "        -> Try to anticipate errors\n",
    "        -> Provide a contingency plan\n",
    "        -> Exception handling\n",
    "\"\"\""
   ]
  },
  {
   "cell_type": "code",
   "execution_count": null,
   "id": "9a01807d",
   "metadata": {},
   "outputs": [],
   "source": []
  },
  {
   "cell_type": "code",
   "execution_count": null,
   "id": "6b27b916",
   "metadata": {},
   "outputs": [],
   "source": []
  },
  {
   "cell_type": "code",
   "execution_count": null,
   "id": "7e25de0c",
   "metadata": {},
   "outputs": [],
   "source": []
  },
  {
   "cell_type": "code",
   "execution_count": null,
   "id": "a52f6ea4",
   "metadata": {},
   "outputs": [],
   "source": []
  },
  {
   "cell_type": "code",
   "execution_count": null,
   "id": "46ac7643",
   "metadata": {},
   "outputs": [],
   "source": []
  },
  {
   "cell_type": "code",
   "execution_count": null,
   "id": "bf20ef9d",
   "metadata": {},
   "outputs": [],
   "source": []
  }
 ],
 "metadata": {
  "kernelspec": {
   "display_name": "Python 3 (ipykernel)",
   "language": "python",
   "name": "python3"
  },
  "language_info": {
   "codemirror_mode": {
    "name": "ipython",
    "version": 3
   },
   "file_extension": ".py",
   "mimetype": "text/x-python",
   "name": "python",
   "nbconvert_exporter": "python",
   "pygments_lexer": "ipython3",
   "version": "3.11.5"
  }
 },
 "nbformat": 4,
 "nbformat_minor": 5
}
